{
  "nbformat": 4,
  "nbformat_minor": 0,
  "metadata": {
    "colab": {
      "name": "Encrypt image.ipynb",
      "provenance": [],
      "authorship_tag": "ABX9TyNeB50VwAPNDF6qqnCQBcEs",
      "include_colab_link": true
    },
    "kernelspec": {
      "name": "python3",
      "display_name": "Python 3"
    },
    "language_info": {
      "name": "python"
    }
  },
  "cells": [
    {
      "cell_type": "markdown",
      "metadata": {
        "id": "view-in-github",
        "colab_type": "text"
      },
      "source": [
        "<a href=\"https://colab.research.google.com/github/jyotidabass/Encrypt-image/blob/main/Encrypt_image.ipynb\" target=\"_parent\"><img src=\"https://colab.research.google.com/assets/colab-badge.svg\" alt=\"Open In Colab\"/></a>"
      ]
    },
    {
      "cell_type": "code",
      "source": [
        "import cv2\n",
        "import numpy as np\n",
        "num=121\n",
        "img='/content/cropped-1E6AE7E2-F4F6-4EFC-AFEC-75B6AF988C47 - Abhishek Karekar.jpg'\n",
        "def encrypt(slave, img2, num):\n",
        "\tshape = slave.shape\n",
        "\ta = np.ones(shape)\n",
        "\ta = np.multiply(num, a)\n",
        "\ttemp = np.subtract( np.multiply(a , img2), slave)\n",
        "\timg = np.floor_divide(temp, np.subtract(img2, a)) \n",
        "\timg1 = np.remainder(temp, np.subtract(img2, a))\n",
        "\treturn img, img1"
      ],
      "metadata": {
        "id": "XroNmlwXV7y5"
      },
      "execution_count": 17,
      "outputs": []
    },
    {
      "cell_type": "code",
      "source": [
        "import cv2\n",
        "import numpy as np\n",
        "\n",
        "def keyGen(shape, num):\n",
        "\tkey = np.random.uniform(2*num,255,shape[0]*shape[1]*shape[2])\n",
        "\timg = key.reshape(shape[0], shape[1], shape[2])    \n",
        "\tcv2.imwrite(\"Result/key.png\", img)"
      ],
      "metadata": {
        "id": "a8K7wj8yXUjc"
      },
      "execution_count": 18,
      "outputs": []
    },
    {
      "cell_type": "code",
      "source": [
        "import cv2\n",
        "import numpy as np\n",
        "def decrypt(img, img1, img2, num):\n",
        "\tshape = img.shape\n",
        "\ta = np.ones(shape)\n",
        "\ta = np.multiply(num, a)\n",
        "\timg3 = np.subtract(np.multiply(a, img2) , np.add(np.multiply(np.subtract(img2, a) , img)  , img1))\n",
        "\treturn img3"
      ],
      "metadata": {
        "id": "Ne3ThAjiXpm1"
      },
      "execution_count": 19,
      "outputs": []
    }
  ]
}